{
 "cells": [
  {
   "cell_type": "code",
   "execution_count": 13,
   "id": "fb0edb38-4579-4461-92ff-df0685d94638",
   "metadata": {},
   "outputs": [],
   "source": [
    "# https://www.tensorflow.org/tutorials/load_data/csv\n"
   ]
  },
  {
   "cell_type": "code",
   "execution_count": 14,
   "id": "3a801bb8-d56c-4afd-9202-8789a22b446b",
   "metadata": {},
   "outputs": [],
   "source": [
    "import pandas as pd\n",
    "# print(pd.__version__)\n",
    "import numpy as np\n",
    "\n",
    "# ke numpy values easier to read.\n",
    "np.set_printoptions(precision=3, suppress=True)\n",
    "\n",
    "import tensorflow as tf\n",
    "keras = tf.keras"
   ]
  },
  {
   "cell_type": "code",
   "execution_count": 15,
   "id": "0eb55e30-3900-4d93-9794-0aa61aead802",
   "metadata": {},
   "outputs": [
    {
     "data": {
      "text/html": [
       "<div>\n",
       "<style scoped>\n",
       "    .dataframe tbody tr th:only-of-type {\n",
       "        vertical-align: middle;\n",
       "    }\n",
       "\n",
       "    .dataframe tbody tr th {\n",
       "        vertical-align: top;\n",
       "    }\n",
       "\n",
       "    .dataframe thead th {\n",
       "        text-align: right;\n",
       "    }\n",
       "</style>\n",
       "<table border=\"1\" class=\"dataframe\">\n",
       "  <thead>\n",
       "    <tr style=\"text-align: right;\">\n",
       "      <th></th>\n",
       "      <th>Sonar1</th>\n",
       "      <th>Sonar2</th>\n",
       "      <th>Sonar3</th>\n",
       "      <th>SteeringAngle</th>\n",
       "    </tr>\n",
       "  </thead>\n",
       "  <tbody>\n",
       "    <tr>\n",
       "      <th>0</th>\n",
       "      <td>1.4512</td>\n",
       "      <td>1.2710</td>\n",
       "      <td>1.7665</td>\n",
       "      <td>-22</td>\n",
       "    </tr>\n",
       "    <tr>\n",
       "      <th>1</th>\n",
       "      <td>1.4520</td>\n",
       "      <td>1.2716</td>\n",
       "      <td>1.7669</td>\n",
       "      <td>-22</td>\n",
       "    </tr>\n",
       "    <tr>\n",
       "      <th>2</th>\n",
       "      <td>1.4506</td>\n",
       "      <td>1.2705</td>\n",
       "      <td>1.7660</td>\n",
       "      <td>-22</td>\n",
       "    </tr>\n",
       "    <tr>\n",
       "      <th>3</th>\n",
       "      <td>1.4486</td>\n",
       "      <td>1.2688</td>\n",
       "      <td>1.7645</td>\n",
       "      <td>-22</td>\n",
       "    </tr>\n",
       "    <tr>\n",
       "      <th>4</th>\n",
       "      <td>1.4458</td>\n",
       "      <td>1.2666</td>\n",
       "      <td>1.7625</td>\n",
       "      <td>-22</td>\n",
       "    </tr>\n",
       "  </tbody>\n",
       "</table>\n",
       "</div>"
      ],
      "text/plain": [
       "   Sonar1  Sonar2  Sonar3  SteeringAngle\n",
       "0  1.4512  1.2710  1.7665            -22\n",
       "1  1.4520  1.2716  1.7669            -22\n",
       "2  1.4506  1.2705  1.7660            -22\n",
       "3  1.4486  1.2688  1.7645            -22\n",
       "4  1.4458  1.2666  1.7625            -22"
      ]
     },
     "execution_count": 15,
     "metadata": {},
     "output_type": "execute_result"
    }
   ],
   "source": [
    "sonar_data = pd.read_csv(\n",
    "    \"C:/Users/kcvan/MakeAIWork/KEVINPROJECT1/CSVfiles/01_S_280922 - 01_S_280922.csv\",\n",
    "    names=[\"Sonar1\", \"Sonar2\", \"Sonar3\", \"SteeringAngle\"])\n",
    "\n",
    "sonar_data.head()  "
   ]
  },
  {
   "cell_type": "code",
   "execution_count": 16,
   "id": "1d2b4e85-fbdf-44de-b40f-99a247d39759",
   "metadata": {},
   "outputs": [],
   "source": [
    "# print(sonar_data)"
   ]
  },
  {
   "cell_type": "code",
   "execution_count": 17,
   "id": "40fadfff-5c9a-45ec-b87e-ae68b612d421",
   "metadata": {},
   "outputs": [
    {
     "data": {
      "text/html": [
       "<div>\n",
       "<style scoped>\n",
       "    .dataframe tbody tr th:only-of-type {\n",
       "        vertical-align: middle;\n",
       "    }\n",
       "\n",
       "    .dataframe tbody tr th {\n",
       "        vertical-align: top;\n",
       "    }\n",
       "\n",
       "    .dataframe thead th {\n",
       "        text-align: right;\n",
       "    }\n",
       "</style>\n",
       "<table border=\"1\" class=\"dataframe\">\n",
       "  <thead>\n",
       "    <tr style=\"text-align: right;\">\n",
       "      <th></th>\n",
       "      <th>Sonar1</th>\n",
       "      <th>Sonar2</th>\n",
       "      <th>Sonar3</th>\n",
       "    </tr>\n",
       "  </thead>\n",
       "  <tbody>\n",
       "    <tr>\n",
       "      <th>0</th>\n",
       "      <td>1.4512</td>\n",
       "      <td>1.2710</td>\n",
       "      <td>1.7665</td>\n",
       "    </tr>\n",
       "    <tr>\n",
       "      <th>1</th>\n",
       "      <td>1.4520</td>\n",
       "      <td>1.2716</td>\n",
       "      <td>1.7669</td>\n",
       "    </tr>\n",
       "    <tr>\n",
       "      <th>2</th>\n",
       "      <td>1.4506</td>\n",
       "      <td>1.2705</td>\n",
       "      <td>1.7660</td>\n",
       "    </tr>\n",
       "    <tr>\n",
       "      <th>3</th>\n",
       "      <td>1.4486</td>\n",
       "      <td>1.2688</td>\n",
       "      <td>1.7645</td>\n",
       "    </tr>\n",
       "    <tr>\n",
       "      <th>4</th>\n",
       "      <td>1.4458</td>\n",
       "      <td>1.2666</td>\n",
       "      <td>1.7625</td>\n",
       "    </tr>\n",
       "  </tbody>\n",
       "</table>\n",
       "</div>"
      ],
      "text/plain": [
       "   Sonar1  Sonar2  Sonar3\n",
       "0  1.4512  1.2710  1.7665\n",
       "1  1.4520  1.2716  1.7669\n",
       "2  1.4506  1.2705  1.7660\n",
       "3  1.4486  1.2688  1.7645\n",
       "4  1.4458  1.2666  1.7625"
      ]
     },
     "execution_count": 17,
     "metadata": {},
     "output_type": "execute_result"
    }
   ],
   "source": [
    "sonar_features = sonar_data.copy()\n",
    "sonar_labels = sonar_features.pop('SteeringAngle')\n",
    "sonar_features.head()"
   ]
  },
  {
   "cell_type": "code",
   "execution_count": 18,
   "id": "2a327ef0-6fb5-43ca-a3e1-e8f70d8d2d11",
   "metadata": {},
   "outputs": [],
   "source": [
    "#print(sonar_features)"
   ]
  },
  {
   "cell_type": "code",
   "execution_count": 19,
   "id": "05f2fa53-767f-4428-8118-316e29522113",
   "metadata": {},
   "outputs": [
    {
     "data": {
      "text/plain": [
       "0   -22\n",
       "1   -22\n",
       "2   -22\n",
       "3   -22\n",
       "4   -22\n",
       "Name: SteeringAngle, dtype: int64"
      ]
     },
     "execution_count": 19,
     "metadata": {},
     "output_type": "execute_result"
    }
   ],
   "source": [
    "sonar_labels.head()"
   ]
  },
  {
   "cell_type": "code",
   "execution_count": 20,
   "id": "dbc9c2a5-fc4a-4295-a691-bd44f4c1261b",
   "metadata": {},
   "outputs": [
    {
     "data": {
      "text/plain": [
       "array([[1.451, 1.271, 1.766],\n",
       "       [1.452, 1.272, 1.767],\n",
       "       [1.451, 1.27 , 1.766],\n",
       "       ...,\n",
       "       [1.983, 1.74 , 1.353],\n",
       "       [1.983, 1.74 , 1.353],\n",
       "       [1.983, 1.74 , 1.353]])"
      ]
     },
     "execution_count": 20,
     "metadata": {},
     "output_type": "execute_result"
    }
   ],
   "source": [
    "sonar_features = np.array(sonar_features)\n",
    "sonar_features"
   ]
  },
  {
   "cell_type": "code",
   "execution_count": 21,
   "id": "839a7df2-c8dc-4705-9d71-5fc41e7c8e27",
   "metadata": {},
   "outputs": [],
   "source": [
    "sonar_model = tf.keras.Sequential([\n",
    "  keras.layers.Dense(64),\n",
    "  keras.layers.Dense(1)\n",
    "])\n",
    "\n",
    "sonar_model.compile(loss = tf.keras.losses.MeanSquaredError(),\n",
    "                      optimizer = tf.keras.optimizers.Adam())"
   ]
  },
  {
   "cell_type": "code",
   "execution_count": 22,
   "id": "eebed64f-bed2-4d0c-b34d-406e226f2894",
   "metadata": {},
   "outputs": [
    {
     "name": "stdout",
     "output_type": "stream",
     "text": [
      "Epoch 1/10\n",
      "157/157 [==============================] - 0s 1ms/step - loss: 93.9557\n",
      "Epoch 2/10\n",
      "157/157 [==============================] - 0s 1ms/step - loss: 84.3001\n",
      "Epoch 3/10\n",
      "157/157 [==============================] - 0s 1ms/step - loss: 76.6625\n",
      "Epoch 4/10\n",
      "157/157 [==============================] - 0s 1ms/step - loss: 71.5796\n",
      "Epoch 5/10\n",
      "157/157 [==============================] - 0s 967us/step - loss: 69.1468\n",
      "Epoch 6/10\n",
      "157/157 [==============================] - 0s 1000us/step - loss: 68.3235\n",
      "Epoch 7/10\n",
      "157/157 [==============================] - 0s 1ms/step - loss: 67.8994\n",
      "Epoch 8/10\n",
      "157/157 [==============================] - 0s 981us/step - loss: 67.5871\n",
      "Epoch 9/10\n",
      "157/157 [==============================] - 0s 966us/step - loss: 67.4630\n",
      "Epoch 10/10\n",
      "157/157 [==============================] - 0s 1ms/step - loss: 67.3952\n"
     ]
    },
    {
     "data": {
      "text/plain": [
       "<keras.callbacks.History at 0x22b877bdb10>"
      ]
     },
     "execution_count": 22,
     "metadata": {},
     "output_type": "execute_result"
    }
   ],
   "source": [
    "sonar_model.fit(sonar_features, sonar_labels, epochs=10)"
   ]
  },
  {
   "cell_type": "code",
   "execution_count": null,
   "id": "5a517549-a966-4094-9c7a-467c498d2d27",
   "metadata": {},
   "outputs": [],
   "source": []
  }
 ],
 "metadata": {
  "kernelspec": {
   "display_name": "Python 3 (ipykernel)",
   "language": "python",
   "name": "python3"
  },
  "language_info": {
   "codemirror_mode": {
    "name": "ipython",
    "version": 3
   },
   "file_extension": ".py",
   "mimetype": "text/x-python",
   "name": "python",
   "nbconvert_exporter": "python",
   "pygments_lexer": "ipython3",
   "version": "3.10.7"
  },
  "vscode": {
   "interpreter": {
    "hash": "ab828684c0feb6164bb1a244d8aa75e5f84196adb3bf89a711a3dd5fd476bbea"
   }
  }
 },
 "nbformat": 4,
 "nbformat_minor": 5
}
