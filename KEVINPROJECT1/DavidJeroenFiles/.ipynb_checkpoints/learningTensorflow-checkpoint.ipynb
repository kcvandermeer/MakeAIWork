{
 "cells": [
  {
   "cell_type": "code",
   "execution_count": null,
   "id": "39de616e-74d7-4212-a5b4-524577b7ae2e",
   "metadata": {},
   "outputs": [],
   "source": [
    "#pip install pandas numpy tensorflow==2.8"
   ]
  },
  {
   "cell_type": "code",
   "execution_count": null,
   "id": "e7f234b6-99ae-4b70-8cf7-50ebc8d02618",
   "metadata": {},
   "outputs": [],
   "source": [
    "import pandas as pd\n",
    "# print(pd.__version__)\n",
    "import numpy as np\n",
    "import tensorflow as tf\n",
    "\n",
    "# ke numpy values easier to read.\n",
    "np.set_printoptions(precision=3, suppress=True)\n",
    "\n",
    "\n",
    "from tensorflow.keras import layers"
   ]
  },
  {
   "cell_type": "code",
   "execution_count": null,
   "id": "c08bd076-bf1f-4d68-a125-e24a67b13615",
   "metadata": {},
   "outputs": [],
   "source": [
    "L_280922_14 = pd.read_csv(\n",
    "    \"C:/Users/kcvan/MakeAIWork/KEVINPROJECT1/DavidJeroen/tensorflow_lidar _01_test.csv\",\n",
    "    names=[\"distance 01\", \"distance 02\",\"distance 03\", \"distance 04\", \"distance 05\", \"distance 06\", \"distance 07\", \"distance 08\", \"distance 09\", \"distance 10\", \"distance 11\", \"distance 12\",\"distance 13\", \"distance 14\", \"distance 15\", \"distance 16\", \"angle\"])\n",
    "\n",
    "L_280922_14.head()"
   ]
  },
  {
   "cell_type": "code",
   "execution_count": null,
   "id": "1c562f89-e955-4069-8138-d75a5c6311ce",
   "metadata": {},
   "outputs": [],
   "source": [
    "distanceLearning = L_280922_14.copy()\n",
    "distanceLearning = distanceLearning.pop('angle')\n",
    "# learningWithoutAngle.head()"
   ]
  },
  {
   "cell_type": "code",
   "execution_count": null,
   "id": "4f280300-b536-4bda-a2b1-b676630addf5",
   "metadata": {},
   "outputs": [],
   "source": [
    "distanceLearning = np.array(distanceLearning)\n",
    "# distanceLearning"
   ]
  },
  {
   "cell_type": "code",
   "execution_count": null,
   "id": "cc3d7733-daaf-47a7-aa66-94c433fe4bce",
   "metadata": {},
   "outputs": [],
   "source": [
    "LearningModel = tf.keras.Sequential([\n",
    "  layers.Dense(64, activation = 'relu'),\n",
    "  layers.Dense(64),\n",
    "  layers.Dense(64),\n",
    "  layers.Dense(64),  \n",
    "  layers.Dense(1)\n",
    "])\n",
    "\n",
    "LearningModel.compile(loss = tf.keras.losses.MeanSquaredError(),\n",
    "                      optimizer = tf.keras.optimizers.Adam(learning_rate=0.00001))"
   ]
  },
  {
   "cell_type": "code",
   "execution_count": null,
   "id": "eb79cde3-6fcd-46d6-814d-17d553cac4eb",
   "metadata": {},
   "outputs": [],
   "source": [
    "LearningModel.fit(distanceLearning, distanceLearning, epochs=530)"
   ]
  },
  {
   "cell_type": "code",
   "execution_count": null,
   "id": "6bd8cb26-a6a7-4690-9891-8fa9931db27f",
   "metadata": {},
   "outputs": [],
   "source": []
  }
 ],
 "metadata": {
  "kernelspec": {
   "display_name": "Python 3 (ipykernel)",
   "language": "python",
   "name": "python3"
  },
  "language_info": {
   "codemirror_mode": {
    "name": "ipython",
    "version": 3
   },
   "file_extension": ".py",
   "mimetype": "text/x-python",
   "name": "python",
   "nbconvert_exporter": "python",
   "pygments_lexer": "ipython3",
   "version": "3.10.7"
  }
 },
 "nbformat": 4,
 "nbformat_minor": 5
}
