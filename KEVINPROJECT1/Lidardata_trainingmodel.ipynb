{
 "cells": [
  {
   "cell_type": "code",
   "execution_count": null,
   "id": "fb0edb38-4579-4461-92ff-df0685d94638",
   "metadata": {},
   "outputs": [],
   "source": [
    "#!/usr/bin/env python\n"
   ]
  },
  {
   "cell_type": "code",
   "execution_count": null,
   "id": "3a801bb8-d56c-4afd-9202-8789a22b446b",
   "metadata": {},
   "outputs": [],
   "source": [
    "import pandas as pd\n",
    "# print(pd.__version__)\n",
    "import numpy as np\n",
    "\n",
    "# ke numpy values easier to read.\n",
    "np.set_printoptions(precision=3, suppress=True)\n",
    "\n",
    "import tensorflow as tf\n",
    "keras = tf.keras\n",
    "\n",
    "from tensorflow.keras.models import Model"
   ]
  },
  {
   "cell_type": "code",
   "execution_count": null,
   "id": "0eb55e30-3900-4d93-9794-0aa61aead802",
   "metadata": {},
   "outputs": [],
   "source": [
    "lidar_data = pd.read_csv(\n",
    "    \"C:/Users/kcvan/MakeAIWork/KEVINPROJECT1/CSVfiles/02_L_280922 - 02_L_280922.csv\",\n",
    "    names=[\"Lidar1\", \"Lidar2\", \"Lidar3\", \"Lidar4\", \"Lidar5\", \"Lidar6\", \"Lidar7\", \"Lidar8\", \"Lidar9\", \"Lidar10\",\n",
    "           \"Lidar11\", \"Lidar12\", \"Lidar13\", \"Lidar14\", \"Lidar15\", \"Lidar16\", \"SteeringAngle\"])\n",
    "\n",
    "lidar_data.head()  "
   ]
  },
  {
   "cell_type": "code",
   "execution_count": null,
   "id": "1d2b4e85-fbdf-44de-b40f-99a247d39759",
   "metadata": {},
   "outputs": [],
   "source": [
    "# print(lidar_data)"
   ]
  },
  {
   "cell_type": "code",
   "execution_count": null,
   "id": "40fadfff-5c9a-45ec-b87e-ae68b612d421",
   "metadata": {},
   "outputs": [],
   "source": [
    "lidar_sensors = lidar_data.copy()\n",
    "lidar_labels = lidar_sensors.pop('SteeringAngle')\n",
    "lidar_sensors.head()"
   ]
  },
  {
   "cell_type": "code",
   "execution_count": null,
   "id": "2a327ef0-6fb5-43ca-a3e1-e8f70d8d2d11",
   "metadata": {},
   "outputs": [],
   "source": [
    "#print(lidar_sensors)"
   ]
  },
  {
   "cell_type": "code",
   "execution_count": null,
   "id": "05f2fa53-767f-4428-8118-316e29522113",
   "metadata": {},
   "outputs": [],
   "source": [
    "#lidar_labels.head()"
   ]
  },
  {
   "cell_type": "code",
   "execution_count": null,
   "id": "dbc9c2a5-fc4a-4295-a691-bd44f4c1261b",
   "metadata": {},
   "outputs": [],
   "source": [
    "lidar_sensors = np.array(lidar_sensors)\n",
    "lidar_sensors"
   ]
  },
  {
   "cell_type": "code",
   "execution_count": null,
   "id": "100e6f45-90d3-44aa-8735-b1352cdf3b3f",
   "metadata": {},
   "outputs": [],
   "source": [
    "normalize = keras.layers.Normalization()\n",
    "normalize.adapt(lidar_sensors)"
   ]
  },
  {
   "cell_type": "code",
   "execution_count": null,
   "id": "839a7df2-c8dc-4705-9d71-5fc41e7c8e27",
   "metadata": {},
   "outputs": [],
   "source": [
    "norm_lidar_model_01 = tf.keras.Sequential([\n",
    "    normalize,\n",
    "  keras.Input(shape=(16, )),\n",
    "  keras.layers.Dense(64, activation='relu'),\n",
    "  keras.layers.Dense(64, activation='relu'),\n",
    "  keras.layers.Dense(64, activation='relu'),\n",
    "  keras.layers.Dense(1)\n",
    "])\n",
    "\n",
    "norm_lidar_model_01.compile(\n",
    "    loss = tf.keras.losses.MeanSquaredError(), \n",
    "    metrics = ['accuracy'],\n",
    "    optimizer = tf.keras.optimizers.Adam()\n",
    ")\n"
   ]
  },
  {
   "cell_type": "code",
   "execution_count": null,
   "id": "eebed64f-bed2-4d0c-b34d-406e226f2894",
   "metadata": {},
   "outputs": [],
   "source": [
    "lidar_model.fit(lidar_sensors, lidar_labels, epochs=1000)"
   ]
  },
  {
   "cell_type": "code",
   "execution_count": null,
   "id": "5a517549-a966-4094-9c7a-467c498d2d27",
   "metadata": {},
   "outputs": [],
   "source": [
    "#LearningModel.save('learningModelLidar')"
   ]
  }
 ],
 "metadata": {
  "kernelspec": {
   "display_name": "Python 3 (ipykernel)",
   "language": "python",
   "name": "python3"
  },
  "language_info": {
   "codemirror_mode": {
    "name": "ipython",
    "version": 3
   },
   "file_extension": ".py",
   "mimetype": "text/x-python",
   "name": "python",
   "nbconvert_exporter": "python",
   "pygments_lexer": "ipython3",
   "version": "3.10.7"
  },
  "vscode": {
   "interpreter": {
    "hash": "ab828684c0feb6164bb1a244d8aa75e5f84196adb3bf89a711a3dd5fd476bbea"
   }
  }
 },
 "nbformat": 4,
 "nbformat_minor": 5
}
