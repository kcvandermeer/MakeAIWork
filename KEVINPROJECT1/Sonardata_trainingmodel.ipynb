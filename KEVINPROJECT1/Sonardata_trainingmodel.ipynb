{
 "cells": [
  {
   "cell_type": "code",
   "execution_count": null,
   "id": "fb0edb38-4579-4461-92ff-df0685d94638",
   "metadata": {},
   "outputs": [],
   "source": [
    "#!/usr/bin/env python\n"
   ]
  },
  {
   "cell_type": "code",
   "execution_count": null,
   "id": "3a801bb8-d56c-4afd-9202-8789a22b446b",
   "metadata": {},
   "outputs": [],
   "source": [
    "import pandas as pd\n",
    "# print(pd.__version__)\n",
    "import numpy as np\n",
    "\n",
    "# ke numpy values easier to read.\n",
    "np.set_printoptions(precision=3, suppress=True)\n",
    "\n",
    "import tensorflow as tf\n",
    "keras = tf.keras\n",
    "\n",
    "from tensorflow.keras.models import Model"
   ]
  },
  {
   "cell_type": "code",
   "execution_count": null,
   "id": "0eb55e30-3900-4d93-9794-0aa61aead802",
   "metadata": {},
   "outputs": [],
   "source": [
    "sonar_data = pd.read_csv(\n",
    "    \"C:/Users/kcvan/MakeAIWork/KEVINPROJECT1/CSVfiles/01_S_280922 - 01_S_280922.csv\",\n",
    "    names=[\"Sonar1\", \"Sonar2\", \"Sonar3\", \"SteeringAngle\"])\n",
    "\n",
    "sonar_data.head()  "
   ]
  },
  {
   "cell_type": "code",
   "execution_count": null,
   "id": "1d2b4e85-fbdf-44de-b40f-99a247d39759",
   "metadata": {},
   "outputs": [],
   "source": [
    "# print(sonar_data)"
   ]
  },
  {
   "cell_type": "code",
   "execution_count": null,
   "id": "40fadfff-5c9a-45ec-b87e-ae68b612d421",
   "metadata": {},
   "outputs": [],
   "source": [
    "sonar_sensors = sonar_data.copy()\n",
    "sonar_labels = sonar_sensors.pop('SteeringAngle')\n",
    "sonar_sensors.head()"
   ]
  },
  {
   "cell_type": "code",
   "execution_count": null,
   "id": "2a327ef0-6fb5-43ca-a3e1-e8f70d8d2d11",
   "metadata": {},
   "outputs": [],
   "source": [
    "#print(sonar_sensors)"
   ]
  },
  {
   "cell_type": "code",
   "execution_count": null,
   "id": "05f2fa53-767f-4428-8118-316e29522113",
   "metadata": {},
   "outputs": [],
   "source": [
    "sonar_labels.head()"
   ]
  },
  {
   "cell_type": "code",
   "execution_count": null,
   "id": "dbc9c2a5-fc4a-4295-a691-bd44f4c1261b",
   "metadata": {},
   "outputs": [],
   "source": [
    "sonar_sensors = np.array(sonar_sensors)\n",
    "sonar_sensors"
   ]
  },
  {
   "cell_type": "code",
   "execution_count": null,
   "id": "ef72fd36-1a3b-478d-9823-151066a24669",
   "metadata": {},
   "outputs": [],
   "source": [
    "normalize = keras.layers.Normalization()\n",
    "normalize.adapt(sonar_sensors)"
   ]
  },
  {
   "cell_type": "code",
   "execution_count": null,
   "id": "839a7df2-c8dc-4705-9d71-5fc41e7c8e27",
   "metadata": {},
   "outputs": [],
   "source": [
    "norm_sonar_model_01 = tf.keras.Sequential([\n",
    "    normalize,\n",
    "  keras.Input(shape=(3,)),\n",
    "  keras.layers.Dense(64, activation='relu'),\n",
    "    keras.layers.Dense(128, activation='relu'),\n",
    "  keras.layers.Dense(64, activation='relu'),\n",
    "  keras.layers.Dense(1)\n",
    "])\n",
    "\n",
    "norm_sonar_model_01.compile(loss = tf.keras.losses.MeanSquaredError(), metrics = ['accuracy'],\n",
    "                      optimizer = tf.keras.optimizers.Adam())"
   ]
  },
  {
   "cell_type": "code",
   "execution_count": null,
   "id": "eebed64f-bed2-4d0c-b34d-406e226f2894",
   "metadata": {},
   "outputs": [],
   "source": [
    "norm_sonar_model_01.fit(sonar_sensors, sonar_labels, epochs=100)"
   ]
  },
  {
   "cell_type": "code",
   "execution_count": null,
   "id": "5a517549-a966-4094-9c7a-467c498d2d27",
   "metadata": {},
   "outputs": [],
   "source": [
    "#LearningModel.save('learningModelSonar')"
   ]
  }
 ],
 "metadata": {
  "kernelspec": {
   "display_name": "Python 3 (ipykernel)",
   "language": "python",
   "name": "python3"
  },
  "language_info": {
   "codemirror_mode": {
    "name": "ipython",
    "version": 3
   },
   "file_extension": ".py",
   "mimetype": "text/x-python",
   "name": "python",
   "nbconvert_exporter": "python",
   "pygments_lexer": "ipython3",
   "version": "3.10.7"
  },
  "vscode": {
   "interpreter": {
    "hash": "ab828684c0feb6164bb1a244d8aa75e5f84196adb3bf89a711a3dd5fd476bbea"
   }
  }
 },
 "nbformat": 4,
 "nbformat_minor": 5
}
