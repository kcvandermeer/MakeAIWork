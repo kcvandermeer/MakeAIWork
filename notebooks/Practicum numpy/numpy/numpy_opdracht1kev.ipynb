{
 "cells": [
  {
   "cell_type": "markdown",
   "id": "b45dd50e-d75c-41d2-a549-110cc111e32b",
   "metadata": {},
   "source": [
    "<a href=\"https://it-omscholing.nl/locaties/hogeschool-rotterdam/\">\n",
    "<div>\n",
    "<a><img src='../pics/banner.PNG'/></a>\n",
    "</div>\n",
    "<div>\n",
    "<a href=''><img src='../pics/miw.PNG'/></a>\n",
    "<em>Author: Jeroen Boogaard</em>\n",
    "</div>\n",
    "</a>"
   ]
  },
  {
   "cell_type": "markdown",
   "id": "63f0720b-4a62-479d-873b-c5f6cad9a89d",
   "metadata": {},
   "source": [
    "<h1>Numpy</h1>"
   ]
  },
  {
   "cell_type": "markdown",
   "id": "3619d610-30b3-41a2-b5f0-ae37b9d5b105",
   "metadata": {},
   "source": [
    "**Imports**"
   ]
  },
  {
   "cell_type": "code",
   "execution_count": 94,
   "id": "42257a05-c794-4121-a9cf-fe53fa3a1dc1",
   "metadata": {},
   "outputs": [],
   "source": [
    "import numpy as np\n",
    "import PIL\n",
    "import pandas as pd\n",
    "from PIL import Image\n",
    "from scipy import ndimage"
   ]
  },
  {
   "cell_type": "markdown",
   "id": "8e48110a-ff83-4fba-aab9-7cb3678fe668",
   "metadata": {},
   "source": [
    "<h2>Opdracht 1</h2>"
   ]
  },
  {
   "cell_type": "markdown",
   "id": "47ac5b87-14b1-437e-91cb-93dadadef8f9",
   "metadata": {},
   "source": [
    "<h3>Gegeven</h3>"
   ]
  },
  {
   "cell_type": "markdown",
   "id": "8605ba6e-3f4e-4fe1-b76f-c784f2f44735",
   "metadata": {},
   "source": [
    "Planeet | Grootte to.v. de omvang van de Aarde\n",
    "---|---\n",
    "Jupiter | 1120%\n",
    "Saturnus | 945%\n",
    "Uranus | 400%\n",
    "Neptunus | 388%\n",
    "Aarde| 100%\n",
    "Venus | 95%\n",
    "Mars | 53%"
   ]
  },
  {
   "cell_type": "code",
   "execution_count": 95,
   "id": "2b471d98-c5b0-4db0-a1c6-155094548c23",
   "metadata": {},
   "outputs": [],
   "source": [
    "filename = \"csv/planets.csv\""
   ]
  },
  {
   "cell_type": "code",
   "execution_count": 96,
   "id": "e5fa129a-d9a8-4899-ba69-87537e1819f5",
   "metadata": {},
   "outputs": [
    {
     "name": "stdout",
     "output_type": "stream",
     "text": [
      " Volume in drive C is Windows\n",
      " Volume Serial Number is 8EAC-E6F9\n",
      "\n",
      " Directory of c:\\Users\\kcvan\\MakeAIWork2\\opdrachten\\practica\\numpy\\pics\n",
      "\n",
      "12-10-2022  13:38    <DIR>          .\n",
      "12-10-2022  13:38    <DIR>          ..\n",
      "12-10-2022  13:24    <DIR>          .ipynb_checkpoints\n",
      "16-09-2022  11:22            29.680 earth.jpg\n",
      "12-10-2022  13:43            32.862 earth_scaled.jpg\n",
      "16-09-2022  11:22            22.232 jupiter.jpg\n",
      "16-09-2022  11:22            27.847 mars.jpg\n",
      "16-09-2022  11:22           414.893 mars.nasa.jpg\n",
      "16-09-2022  11:22            40.854 mercury.jpg\n",
      "12-10-2022  13:43             2.856 mercury_scaled.jpg\n",
      "16-09-2022  11:22            14.150 neptune.jpg\n",
      "16-09-2022  11:22            40.218 saturn.jpg\n",
      "16-09-2022  11:22             9.969 uranus.jpg\n",
      "20-09-2022  10:20            66.259 venus.jpg\n",
      "16-09-2022  11:22            66.259 venus.png\n",
      "12-10-2022  13:43                 0 venus_scaled.jpg\n",
      "              13 File(s)        768.079 bytes\n",
      "               3 Dir(s)  33.391.968.256 bytes free\n"
     ]
    }
   ],
   "source": [
    "ls pics"
   ]
  },
  {
   "cell_type": "markdown",
   "id": "ad98fa30-0e0a-4ec4-9930-b63db74c11f2",
   "metadata": {},
   "source": [
    "<h3>Gevraagd</h3>\n",
    "<p>\n",
    "Schaal voor elke (erkende) planeet uit ons zonnestelsel de bijbehorende image t.o.v. van de aarde. Het geschaalde plaatje moet groter zijn dan het plaatje van de aarde als de bijbehorende planeet groter is dan de aarde. Is de planeet kleiner dan de aarde dan moet het nieuwe plaatje kleiner zijn. Gebruik voor de schaalfactor het percentage. \n",
    "Tip: Indien nodig kun je de images normaliseren door eerst het plaatje van de aarde te schalen\n",
    "</p>"
   ]
  },
  {
   "cell_type": "markdown",
   "id": "c0c854fb-54db-4baa-b149-2e7d0c1b6391",
   "metadata": {},
   "source": [
    "<h3>Oplossing</h3>\n",
    "<ol>\n",
    "    <li>\n",
    "        <strong>Open het bestand csv/planets.csv en voeg daar de kolom <i>image</i></strong>\n",
    "    </li>\n",
    "    <li>\n",
    "        <strong>Importeer het csv-bestand en sla de data op in een dictionary</strong>\n",
    "    </li>\n",
    "    <li>\n",
    "        <strong>Open een image uit van een item uit de dictionary</strong>\n",
    "    </li>\n",
    "    <li>\n",
    "        <strong>Schaal de image m.b.v. een <i>numpy array</i></strong>\n",
    "    </li>\n",
    "    <li>\n",
    "        <strong>Sla de geschaalde image op</strong>\n",
    "    </li>\n",
    "    <li>\n",
    "        <strong>Schrijf een functie voor het schalen van een image</strong>\n",
    "    </li>    \n",
    "    <li>\n",
    "        <strong>Maak een loop waarbij voor elke planeet een geschaalde image wordt gemaakt en opgelagen</strong>\n",
    "    </li>    \n",
    "</ol>    "
   ]
  },
  {
   "cell_type": "markdown",
   "id": "b2a7b7fb-56b3-43f7-a6b5-34adc057c3d1",
   "metadata": {},
   "source": [
    "**Stap 2: Importeer het csv-bestand en sla de data op in een dictionary**"
   ]
  },
  {
   "cell_type": "code",
   "execution_count": 97,
   "id": "cbcb0e9b-46f8-490d-9a85-eb29037a93cb",
   "metadata": {},
   "outputs": [
    {
     "name": "stdout",
     "output_type": "stream",
     "text": [
      "      Name   Diameter          Mass   Inclination   Eccentricity  \\\n",
      "0  Mercury     4879.4   3.302×10^23       7.00400       0.205636   \n",
      "1    Venus    12103.6   4.869×10^24       3.39471       0.006777   \n",
      "2    Earth    12756.3   5.974×10^24       0.00005       0.016711   \n",
      "3     Mars     6794.4   6.419×10^23       1.85061       0.093394   \n",
      "4  Jupiter   142984.0   1.899×10^27       1.30530       0.048386   \n",
      "5   Saturn   120536.0   5.688×10^26       2.48446       0.053862   \n",
      "6   Uranus    51118.0   8.683×10^25       0.77400       0.047257   \n",
      "7  Neptune    49572.0   1.024×10^26       1.76917       0.008590   \n",
      "\n",
      "    Semi_majorAxis   SurfaceGravity   OrbitalPeriod   SiderealRotation  \\\n",
      "0         0.387099             3.70           0.241          58.650000   \n",
      "1         0.723336             8.87           0.615         243.018700   \n",
      "2         1.000003             9.78           1.000           0.997271   \n",
      "3         1.523710             3.71           1.881           1.025950   \n",
      "4         5.202887            24.79          11.860           0.413500   \n",
      "5         9.536676             8.96          29.460           0.426400   \n",
      "6        19.189165             7.77          84.010           0.718100   \n",
      "7        30.069923            11.00         164.790           0.671200   \n",
      "\n",
      "    Satellites   Image  Scale  \n",
      "0            0     NaN    .38  \n",
      "1            0     NaN    .95  \n",
      "2            1     NaN      1  \n",
      "3            2     NaN    .53  \n",
      "4           63     NaN  11.20  \n",
      "5           64     NaN   9.45  \n",
      "6           27     NaN   4.00  \n",
      "7           14     NaN   3.88  \n"
     ]
    }
   ],
   "source": [
    "planetDataFrame = pd.read_csv(filename, header = 0, sep = ',')\n",
    "scale = ['.38', '.95', '1', '.53', '11.20', '9.45', '4.00', '3.88']\n",
    "planetDataFrame['Scale'] = scale\n",
    "print(planetDataFrame)\n",
    "#print(planetDataFrame.columns)\n",
    "\n",
    "planetDict = planetDataFrame.to_dict\n",
    "#print(planetDict)"
   ]
  },
  {
   "cell_type": "code",
   "execution_count": 98,
   "id": "352459e9-2347-4870-a64c-698ff127c141",
   "metadata": {},
   "outputs": [
    {
     "name": "stdout",
     "output_type": "stream",
     "text": [
      "      Name   Diameter          Mass   Inclination   Eccentricity  \\\n",
      "0  Mercury     4879.4   3.302×10^23       7.00400       0.205636   \n",
      "1    Venus    12103.6   4.869×10^24       3.39471       0.006777   \n",
      "2    Earth    12756.3   5.974×10^24       0.00005       0.016711   \n",
      "3     Mars     6794.4   6.419×10^23       1.85061       0.093394   \n",
      "4  Jupiter   142984.0   1.899×10^27       1.30530       0.048386   \n",
      "5   Saturn   120536.0   5.688×10^26       2.48446       0.053862   \n",
      "6   Uranus    51118.0   8.683×10^25       0.77400       0.047257   \n",
      "7  Neptune    49572.0   1.024×10^26       1.76917       0.008590   \n",
      "\n",
      "    Semi_majorAxis   SurfaceGravity   OrbitalPeriod   SiderealRotation  \\\n",
      "0         0.387099             3.70           0.241          58.650000   \n",
      "1         0.723336             8.87           0.615         243.018700   \n",
      "2         1.000003             9.78           1.000           0.997271   \n",
      "3         1.523710             3.71           1.881           1.025950   \n",
      "4         5.202887            24.79          11.860           0.413500   \n",
      "5         9.536676             8.96          29.460           0.426400   \n",
      "6        19.189165             7.77          84.010           0.718100   \n",
      "7        30.069923            11.00         164.790           0.671200   \n",
      "\n",
      "    Satellites   Image  Scale  \n",
      "0            0     NaN    .38  \n",
      "1            0     NaN    .95  \n",
      "2            1     NaN      1  \n",
      "3            2     NaN    .53  \n",
      "4           63     NaN  11.20  \n",
      "5           64     NaN   9.45  \n",
      "6           27     NaN   4.00  \n",
      "7           14     NaN   3.88  \n"
     ]
    }
   ],
   "source": [
    "planetDataFrame = pd.read_csv(filename, header = 0, sep = ',')\n",
    "scale = ['.38', '.95', '1', '.53', '11.20', '9.45', '4.00', '3.88']\n",
    "planetDataFrame['Scale'] = scale\n",
    "print(planetDataFrame)\n",
    "#print(planetDataFrame.columns)\n",
    "\n",
    "planetDict = planetDataFrame.to_dict\n",
    "#print(planetDict)"
   ]
  },
  {
   "cell_type": "markdown",
   "id": "9d9d8c73-c8fa-41b0-848c-04741aa06bbf",
   "metadata": {},
   "source": [
    "**Stap 3: Open een image uit van een item uit de dictionary**"
   ]
  },
  {
   "cell_type": "code",
   "execution_count": 99,
   "id": "83d43bb9-694e-4390-a8a3-30f6535f6591",
   "metadata": {},
   "outputs": [
    {
     "name": "stdout",
     "output_type": "stream",
     "text": [
      "      Name   Diameter          Mass   Inclination   Eccentricity  \\\n",
      "0  Mercury     4879.4   3.302×10^23       7.00400       0.205636   \n",
      "1    Venus    12103.6   4.869×10^24       3.39471       0.006777   \n",
      "2    Earth    12756.3   5.974×10^24       0.00005       0.016711   \n",
      "3     Mars     6794.4   6.419×10^23       1.85061       0.093394   \n",
      "4  Jupiter   142984.0   1.899×10^27       1.30530       0.048386   \n",
      "5   Saturn   120536.0   5.688×10^26       2.48446       0.053862   \n",
      "6   Uranus    51118.0   8.683×10^25       0.77400       0.047257   \n",
      "7  Neptune    49572.0   1.024×10^26       1.76917       0.008590   \n",
      "\n",
      "    Semi_majorAxis   SurfaceGravity   OrbitalPeriod   SiderealRotation  \\\n",
      "0         0.387099             3.70           0.241          58.650000   \n",
      "1         0.723336             8.87           0.615         243.018700   \n",
      "2         1.000003             9.78           1.000           0.997271   \n",
      "3         1.523710             3.71           1.881           1.025950   \n",
      "4         5.202887            24.79          11.860           0.413500   \n",
      "5         9.536676             8.96          29.460           0.426400   \n",
      "6        19.189165             7.77          84.010           0.718100   \n",
      "7        30.069923            11.00         164.790           0.671200   \n",
      "\n",
      "    Satellites   Image  Scale  \\\n",
      "0            0     NaN    .38   \n",
      "1            0     NaN    .95   \n",
      "2            1     NaN      1   \n",
      "3            2     NaN    .53   \n",
      "4           63     NaN  11.20   \n",
      "5           64     NaN   9.45   \n",
      "6           27     NaN   4.00   \n",
      "7           14     NaN   3.88   \n",
      "\n",
      "                                               Image  \n",
      "0  <PIL.JpegImagePlugin.JpegImageFile image mode=...  \n",
      "1  <PIL.PngImagePlugin.PngImageFile image mode=RG...  \n",
      "2  <PIL.JpegImagePlugin.JpegImageFile image mode=...  \n",
      "3  <PIL.JpegImagePlugin.JpegImageFile image mode=...  \n",
      "4  <PIL.JpegImagePlugin.JpegImageFile image mode=...  \n",
      "5  <PIL.JpegImagePlugin.JpegImageFile image mode=...  \n",
      "6  <PIL.JpegImagePlugin.JpegImageFile image mode=...  \n",
      "7  <PIL.JpegImagePlugin.JpegImageFile image mode=...  \n"
     ]
    }
   ],
   "source": [
    "img0 = ('../pics/mercury.jpg')\n",
    "img1 = ('..pics/venus.jpg') \n",
    "img2 = ('..pics/earth.jpg')\n",
    "img3 = ('..pics/mars.jpg')\n",
    "img4 = ('..pics/jupiter.jpg')\n",
    "img5 = ('..pics/saturn.jpg')\n",
    "img6 = ('..pics/uranus.jpg')\n",
    "img7 = ('..pics/neptune.jpg')\n",
    "\n",
    "\n",
    "img0 = Image.open('pics/mercury.jpg')\n",
    "img1 = Image.open('pics/venus.jpg')\n",
    "img2 = Image.open('pics/earth.jpg')\n",
    "img3 = Image.open('pics/mars.jpg')\n",
    "img4 = Image.open('pics/jupiter.jpg')\n",
    "img5 = Image.open('pics/saturn.jpg')\n",
    "img6 = Image.open('pics/uranus.jpg')\n",
    "img7 = Image.open('pics/neptune.jpg')\n",
    "\n",
    "\n",
    "imageList = [(img0), (img1), (img2), (img3), (img4), (img5), (img6), (img7)]\n",
    "planetDataFrame['Image'] = imageList\n",
    "\n",
    "print (planetDataFrame)\n",
    "                  \n",
    "#img0.show()"
   ]
  },
  {
   "cell_type": "markdown",
   "id": "645b438b-324d-427c-9efd-d621e37445f7",
   "metadata": {
    "tags": []
   },
   "source": [
    "**Stap 4: Schaal de image m.b.v. een numpy array**"
   ]
  },
  {
   "cell_type": "code",
   "execution_count": 100,
   "id": "8894e6bd-6237-4cf6-8d95-222d6a3be56e",
   "metadata": {},
   "outputs": [],
   "source": [
    "array = np.array(img6)\n",
    "# print (type(array))\n",
    "# print (array.ndim)\n",
    "\n",
    "scaleFactor = 4\n",
    "scaleArray= ndimage.zoom(array, (scaleFactor, scaleFactor, 1))\n",
    "\n",
    "imgScaled = Image.fromarray(scaleArray)\n",
    "imgScaled.show()"
   ]
  },
  {
   "cell_type": "markdown",
   "id": "8611929d-d109-4f62-881f-b8a64db1e648",
   "metadata": {},
   "source": [
    "**Stap 5: Sla de geschaalde image op**"
   ]
  },
  {
   "cell_type": "code",
   "execution_count": 101,
   "id": "2e34fa25-3cc3-4e5f-b29a-7793e505db61",
   "metadata": {},
   "outputs": [],
   "source": [
    "imgScaled.save(img0.filename.replace(\".jpg\",\"_scaled.jpg\"))\n",
    "imgScaled.save(img1.filename.replace(\".jpg\",\"_scaled.jpg\"))\n",
    "imgScaled.save(img2.filename.replace(\".jpg\",\"_scaled.jpg\"))\n",
    "imgScaled.save(img3.filename.replace(\".jpg\",\"_scaled.jpg\"))\n",
    "imgScaled.save(img4.filename.replace(\".jpg\",\"_scaled.jpg\"))\n",
    "imgScaled.save(img5.filename.replace(\".jpg\",\"_scaled.jpg\"))\n",
    "imgScaled.save(img6.filename.replace(\".jpg\",\"_scaled.jpg\"))\n",
    "imgScaled.save(img7.filename.replace(\".jpg\",\"_scaled.jpg\"))"
   ]
  },
  {
   "cell_type": "markdown",
   "id": "f142ebe1-f561-447b-8e2e-e8855b20cd50",
   "metadata": {},
   "source": [
    "**Stap 6: Schrijf een functie voor het schalen van een image**"
   ]
  },
  {
   "cell_type": "code",
   "execution_count": 102,
   "id": "f121c4f4-85c0-4e13-9e16-17eb2eebb1a3",
   "metadata": {},
   "outputs": [],
   "source": [
    "planetDataFrame.Scale = planetDataFrame.Scale.astype(float) "
   ]
  },
  {
   "cell_type": "code",
   "execution_count": 103,
   "id": "c8cbc99b-8ce2-4624-88e8-26720eacb234",
   "metadata": {},
   "outputs": [
    {
     "ename": "OSError",
     "evalue": "cannot write mode RGBA as JPEG",
     "output_type": "error",
     "traceback": [
      "\u001b[1;31m---------------------------------------------------------------------------\u001b[0m",
      "\u001b[1;31mKeyError\u001b[0m                                  Traceback (most recent call last)",
      "File \u001b[1;32mc:\\Users\\kcvan\\MakeAIWork2\\env\\lib\\site-packages\\PIL\\JpegImagePlugin.py:630\u001b[0m, in \u001b[0;36m_save\u001b[1;34m(im, fp, filename)\u001b[0m\n\u001b[0;32m    629\u001b[0m \u001b[39mtry\u001b[39;00m:\n\u001b[1;32m--> 630\u001b[0m     rawmode \u001b[39m=\u001b[39m RAWMODE[im\u001b[39m.\u001b[39;49mmode]\n\u001b[0;32m    631\u001b[0m \u001b[39mexcept\u001b[39;00m \u001b[39mKeyError\u001b[39;00m \u001b[39mas\u001b[39;00m e:\n",
      "\u001b[1;31mKeyError\u001b[0m: 'RGBA'",
      "\nThe above exception was the direct cause of the following exception:\n",
      "\u001b[1;31mOSError\u001b[0m                                   Traceback (most recent call last)",
      "Cell \u001b[1;32mIn [103], line 11\u001b[0m\n\u001b[0;32m      9\u001b[0m scaleFactor \u001b[39m=\u001b[39m row\u001b[39m.\u001b[39mloc[\u001b[39m\"\u001b[39m\u001b[39mScale\u001b[39m\u001b[39m\"\u001b[39m]    \n\u001b[0;32m     10\u001b[0m imgScaled \u001b[39m=\u001b[39m imageScaler (img, scaleFactor)\n\u001b[1;32m---> 11\u001b[0m imgScaled\u001b[39m.\u001b[39;49msave(img\u001b[39m.\u001b[39;49mfilename\u001b[39m.\u001b[39;49mreplace(\u001b[39m\"\u001b[39;49m\u001b[39m.jpg\u001b[39;49m\u001b[39m\"\u001b[39;49m,\u001b[39m\"\u001b[39;49m\u001b[39m_scaled.jpg\u001b[39;49m\u001b[39m\"\u001b[39;49m))\n",
      "File \u001b[1;32mc:\\Users\\kcvan\\MakeAIWork2\\env\\lib\\site-packages\\PIL\\Image.py:2320\u001b[0m, in \u001b[0;36mImage.save\u001b[1;34m(self, fp, format, **params)\u001b[0m\n\u001b[0;32m   2317\u001b[0m         fp \u001b[39m=\u001b[39m builtins\u001b[39m.\u001b[39mopen(filename, \u001b[39m\"\u001b[39m\u001b[39mw+b\u001b[39m\u001b[39m\"\u001b[39m)\n\u001b[0;32m   2319\u001b[0m \u001b[39mtry\u001b[39;00m:\n\u001b[1;32m-> 2320\u001b[0m     save_handler(\u001b[39mself\u001b[39;49m, fp, filename)\n\u001b[0;32m   2321\u001b[0m \u001b[39mexcept\u001b[39;00m \u001b[39mException\u001b[39;00m:\n\u001b[0;32m   2322\u001b[0m     \u001b[39mif\u001b[39;00m open_fp:\n",
      "File \u001b[1;32mc:\\Users\\kcvan\\MakeAIWork2\\env\\lib\\site-packages\\PIL\\JpegImagePlugin.py:632\u001b[0m, in \u001b[0;36m_save\u001b[1;34m(im, fp, filename)\u001b[0m\n\u001b[0;32m    630\u001b[0m     rawmode \u001b[39m=\u001b[39m RAWMODE[im\u001b[39m.\u001b[39mmode]\n\u001b[0;32m    631\u001b[0m \u001b[39mexcept\u001b[39;00m \u001b[39mKeyError\u001b[39;00m \u001b[39mas\u001b[39;00m e:\n\u001b[1;32m--> 632\u001b[0m     \u001b[39mraise\u001b[39;00m \u001b[39mOSError\u001b[39;00m(\u001b[39mf\u001b[39m\u001b[39m\"\u001b[39m\u001b[39mcannot write mode \u001b[39m\u001b[39m{\u001b[39;00mim\u001b[39m.\u001b[39mmode\u001b[39m}\u001b[39;00m\u001b[39m as JPEG\u001b[39m\u001b[39m\"\u001b[39m) \u001b[39mfrom\u001b[39;00m \u001b[39me\u001b[39;00m\n\u001b[0;32m    634\u001b[0m info \u001b[39m=\u001b[39m im\u001b[39m.\u001b[39mencoderinfo\n\u001b[0;32m    636\u001b[0m dpi \u001b[39m=\u001b[39m [\u001b[39mround\u001b[39m(x) \u001b[39mfor\u001b[39;00m x \u001b[39min\u001b[39;00m info\u001b[39m.\u001b[39mget(\u001b[39m\"\u001b[39m\u001b[39mdpi\u001b[39m\u001b[39m\"\u001b[39m, (\u001b[39m0\u001b[39m, \u001b[39m0\u001b[39m))]\n",
      "\u001b[1;31mOSError\u001b[0m: cannot write mode RGBA as JPEG"
     ]
    }
   ],
   "source": [
    "def imageScaler (img, scaleFactor):\n",
    "    array = np.array(img)\n",
    "    scaleArray = ndimage.zoom(array, (scaleFactor, scaleFactor, 1))\n",
    "    return Image.fromarray(scaleArray)\n",
    "    \n",
    "for i in range(planetDataFrame.shape[0]):\n",
    "        row = planetDataFrame.iloc[i]\n",
    "        img = row.loc[\"Image\"]\n",
    "        scaleFactor = row.loc[\"Scale\"]    \n",
    "        imgScaled = imageScaler (img, scaleFactor)\n",
    "        imgScaled.save(img.filename.replace(\".jpg\",\"_scaled.jpg\"))\n"
   ]
  },
  {
   "cell_type": "markdown",
   "id": "5a550077-c83c-4af2-96fa-7a32158d5198",
   "metadata": {},
   "source": [
    "**Stap 7: Maak een loop waarbij voor elke planeet een geschaalde image wordt gemaakt en opgelagen**"
   ]
  },
  {
   "cell_type": "markdown",
   "id": "a668a8e8-4d7e-4c6d-adbc-61935887fabe",
   "metadata": {},
   "source": [
    "<h4>Bonus: Voeg Mercurius aan de tabel toe en schaal ook daarvan het plaatje</h4>"
   ]
  },
  {
   "cell_type": "markdown",
   "id": "11d181d1-c906-4ad1-9d8f-69836a4e8cc7",
   "metadata": {},
   "source": [
    "</ol>"
   ]
  },
  {
   "cell_type": "markdown",
   "id": "03ac855f-3986-4b4a-823c-10c6d8b33024",
   "metadata": {},
   "source": [
    "</ol>"
   ]
  },
  {
   "cell_type": "markdown",
   "id": "0be19a7e-a00f-4773-a19a-50b07618f856",
   "metadata": {},
   "source": [
    "\n"
   ]
  }
 ],
 "metadata": {
  "kernelspec": {
   "display_name": "Python 3.10.7 ('env': venv)",
   "language": "python",
   "name": "python3"
  },
  "language_info": {
   "codemirror_mode": {
    "name": "ipython",
    "version": 3
   },
   "file_extension": ".py",
   "mimetype": "text/x-python",
   "name": "python",
   "nbconvert_exporter": "python",
   "pygments_lexer": "ipython3",
   "version": "3.10.7"
  },
  "vscode": {
   "interpreter": {
    "hash": "008a930809f23edf4f2af9cb9393b965e1a03c75bc0dab1080bf2d97c40294c4"
   }
  }
 },
 "nbformat": 4,
 "nbformat_minor": 5
}
